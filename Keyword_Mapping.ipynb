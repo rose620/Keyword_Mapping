{
 "cells": [
  {
   "cell_type": "markdown",
   "metadata": {},
   "source": [
    "#                                         Keyword Mapping"
   ]
  },
  {
   "cell_type": "markdown",
   "metadata": {},
   "source": [
    "### Match free form text to master list hierarchy (manufacturer, brand, product) within nested dictionary"
   ]
  },
  {
   "cell_type": "code",
   "execution_count": 1,
   "metadata": {},
   "outputs": [
    {
     "name": "stdout",
     "output_type": "stream",
     "text": [
      "Enter free form text: vogue eyeglasses\n",
      "keyword mapping is:  vogue\n"
     ]
    }
   ],
   "source": [
    "# Build function to match on eyeglass hierarchy: master = {'manufacturer':{'brand':product}} within nested dictionary\n",
    "free_form = input(\"Enter free form text: \")\n",
    "master = {\"luxottica\": {\"vogue\":\"VO5153\"}}\n",
    "\n",
    "for k, v in master.items():\n",
    "    for k1, v1 in v.items():\n",
    "        key_words = [k,k1,v1]\n",
    "        \n",
    "for key_word in key_words:\n",
    "    if key_word in free_form:\n",
    "        print(\"keyword mapping is: \", key_word)"
   ]
  },
  {
   "cell_type": "markdown",
   "metadata": {},
   "source": [
    "### What if there are no matches or only partial matches? Use fuzzy string matching python package to handle data entry inaccuracies, improve data quality and reduce workload for Data Integrity Specialists"
   ]
  },
  {
   "cell_type": "code",
   "execution_count": 2,
   "metadata": {},
   "outputs": [
    {
     "data": {
      "text/plain": [
       "[('vogue', 90), ('valentino', 33), ('versace', 30)]"
      ]
     },
     "execution_count": 2,
     "metadata": {},
     "output_type": "execute_result"
    }
   ],
   "source": [
    "# use fuzzy wuzzy package to handle data inaccuracies within PMS\n",
    "from fuzzywuzzy import fuzz \n",
    "from fuzzywuzzy import process \n",
    "choices = ['vogue', 'valentino', 'versace']\n",
    "query = 'vog'\n",
    "process.extract(query, choices) "
   ]
  },
  {
   "cell_type": "code",
   "execution_count": 3,
   "metadata": {},
   "outputs": [
    {
     "data": {
      "text/plain": [
       "('vogue', 90)"
      ]
     },
     "execution_count": 3,
     "metadata": {},
     "output_type": "execute_result"
    }
   ],
   "source": [
    "# choose the key word that matches the closest to the data innaccuracy\n",
    "process.extractOne(query, choices)"
   ]
  },
  {
   "cell_type": "markdown",
   "metadata": {},
   "source": [
    "### Create a Pandas dataframe of the entire product taxonomy master list.  Additionally, include a program for layered keyword mappings of product add-ons in order to keyword match on free form text variability"
   ]
  },
  {
   "cell_type": "code",
   "execution_count": 4,
   "metadata": {},
   "outputs": [
    {
     "name": "stdout",
     "output_type": "stream",
     "text": [
      "[['alain mikli', 'alain mikli polycarbonate'],\n",
      " ['alain mikli', 'polycarbonate alain mikli'],\n",
      " ['alain mikli', 'alain mikli high-index'],\n",
      " ['alain mikli', 'high-index alain mikli'],\n",
      " ['alain mikli', 'alain mikli anti-reflective']]\n"
     ]
    }
   ],
   "source": [
    "# create a list containing some common add-ons\n",
    "add_ons = ['polycarbonate','high-index', 'anti-reflective','polarized', 'transitions', 'blue-light protection']\n",
    "\n",
    "# now map to brands under Luxottica manufacturer\n",
    "brands = ['alain mikli', 'armani exchange', 'arnette', 'bolon', 'brooks brothers','burberry', 'bvlgari', 'chanel', 'coach', 'costa','dolce gabbana', 'empirio armani', 'ferrari', 'foster grant', 'georgio armani','luxottica', 'michael kors', 'miu miu', 'molsion', 'oakley','oliver peoples', 'persol', 'polo ralph lauren', 'prada', 'ralph lauren','rayban', 'stereoflex', 'starck', 'tiffany', 'tory borch','valentino','versace','vogue','alain','mikli','armani','exchange','brooks','brothers','dolce','gabbana','empirio','foster','grant','georgio','michael','kors','miu','oliver','polo','ralph','lauren','tory','burch']\n",
    "\n",
    "# Create an empty list\n",
    "keywords_list = []\n",
    "\n",
    "# Loop through brands\n",
    "for brand in brands:\n",
    "    # Loop through addons\n",
    "    for add_on in add_ons:\n",
    "        # Append combinations\n",
    "        keywords_list.append([brand , brand + ' ' + add_on])\n",
    "        keywords_list.append([brand , add_on + ' ' + brand])\n",
    "        \n",
    "# Inspect keyword list\n",
    "from pprint import pprint\n",
    "pprint(keywords_list[:5])"
   ]
  },
  {
   "cell_type": "markdown",
   "metadata": {},
   "source": [
    "### Convert product list of lists into Pandas DataFrame with columns that correspond to Manufacturer, Brand, Product, Add-ons , etc.  "
   ]
  },
  {
   "cell_type": "code",
   "execution_count": 5,
   "metadata": {},
   "outputs": [
    {
     "data": {
      "text/html": [
       "<div>\n",
       "<style scoped>\n",
       "    .dataframe tbody tr th:only-of-type {\n",
       "        vertical-align: middle;\n",
       "    }\n",
       "\n",
       "    .dataframe tbody tr th {\n",
       "        vertical-align: top;\n",
       "    }\n",
       "\n",
       "    .dataframe thead th {\n",
       "        text-align: right;\n",
       "    }\n",
       "</style>\n",
       "<table border=\"1\" class=\"dataframe\">\n",
       "  <thead>\n",
       "    <tr style=\"text-align: right;\">\n",
       "      <th></th>\n",
       "      <th>0</th>\n",
       "      <th>1</th>\n",
       "    </tr>\n",
       "  </thead>\n",
       "  <tbody>\n",
       "    <tr>\n",
       "      <th>0</th>\n",
       "      <td>alain mikli</td>\n",
       "      <td>alain mikli polycarbonate</td>\n",
       "    </tr>\n",
       "    <tr>\n",
       "      <th>1</th>\n",
       "      <td>alain mikli</td>\n",
       "      <td>polycarbonate alain mikli</td>\n",
       "    </tr>\n",
       "    <tr>\n",
       "      <th>2</th>\n",
       "      <td>alain mikli</td>\n",
       "      <td>alain mikli high-index</td>\n",
       "    </tr>\n",
       "    <tr>\n",
       "      <th>3</th>\n",
       "      <td>alain mikli</td>\n",
       "      <td>high-index alain mikli</td>\n",
       "    </tr>\n",
       "    <tr>\n",
       "      <th>4</th>\n",
       "      <td>alain mikli</td>\n",
       "      <td>alain mikli anti-reflective</td>\n",
       "    </tr>\n",
       "  </tbody>\n",
       "</table>\n",
       "</div>"
      ],
      "text/plain": [
       "             0                            1\n",
       "0  alain mikli    alain mikli polycarbonate\n",
       "1  alain mikli    polycarbonate alain mikli\n",
       "2  alain mikli       alain mikli high-index\n",
       "3  alain mikli       high-index alain mikli\n",
       "4  alain mikli  alain mikli anti-reflective"
      ]
     },
     "execution_count": 5,
     "metadata": {},
     "output_type": "execute_result"
    }
   ],
   "source": [
    "# convert list of lists into a dataframe\n",
    "import pandas as pd\n",
    "\n",
    "# Create a DataFrame from list\n",
    "keywords_df = pd.DataFrame.from_records(keywords_list)\n",
    "\n",
    "# Print the keywords DataFrame to explore it\n",
    "keywords_df.head()"
   ]
  },
  {
   "cell_type": "code",
   "execution_count": 6,
   "metadata": {},
   "outputs": [
    {
     "data": {
      "text/html": [
       "<div>\n",
       "<style scoped>\n",
       "    .dataframe tbody tr th:only-of-type {\n",
       "        vertical-align: middle;\n",
       "    }\n",
       "\n",
       "    .dataframe tbody tr th {\n",
       "        vertical-align: top;\n",
       "    }\n",
       "\n",
       "    .dataframe thead th {\n",
       "        text-align: right;\n",
       "    }\n",
       "</style>\n",
       "<table border=\"1\" class=\"dataframe\">\n",
       "  <thead>\n",
       "    <tr style=\"text-align: right;\">\n",
       "      <th></th>\n",
       "      <th>Brands</th>\n",
       "      <th>Layered_Keyword_Mapping</th>\n",
       "      <th>Manufacturer_Name</th>\n",
       "      <th>Product</th>\n",
       "    </tr>\n",
       "  </thead>\n",
       "  <tbody>\n",
       "    <tr>\n",
       "      <th>0</th>\n",
       "      <td>alain mikli</td>\n",
       "      <td>alain mikli polycarbonate</td>\n",
       "      <td>Luxottica</td>\n",
       "      <td>sunglasses</td>\n",
       "    </tr>\n",
       "    <tr>\n",
       "      <th>1</th>\n",
       "      <td>alain mikli</td>\n",
       "      <td>polycarbonate alain mikli</td>\n",
       "      <td>Luxottica</td>\n",
       "      <td>sunglasses</td>\n",
       "    </tr>\n",
       "    <tr>\n",
       "      <th>2</th>\n",
       "      <td>alain mikli</td>\n",
       "      <td>alain mikli high-index</td>\n",
       "      <td>Luxottica</td>\n",
       "      <td>sunglasses</td>\n",
       "    </tr>\n",
       "    <tr>\n",
       "      <th>3</th>\n",
       "      <td>alain mikli</td>\n",
       "      <td>high-index alain mikli</td>\n",
       "      <td>Luxottica</td>\n",
       "      <td>sunglasses</td>\n",
       "    </tr>\n",
       "    <tr>\n",
       "      <th>4</th>\n",
       "      <td>alain mikli</td>\n",
       "      <td>alain mikli anti-reflective</td>\n",
       "      <td>Luxottica</td>\n",
       "      <td>sunglasses</td>\n",
       "    </tr>\n",
       "  </tbody>\n",
       "</table>\n",
       "</div>"
      ],
      "text/plain": [
       "        Brands      Layered_Keyword_Mapping Manufacturer_Name     Product\n",
       "0  alain mikli    alain mikli polycarbonate         Luxottica  sunglasses\n",
       "1  alain mikli    polycarbonate alain mikli         Luxottica  sunglasses\n",
       "2  alain mikli       alain mikli high-index         Luxottica  sunglasses\n",
       "3  alain mikli       high-index alain mikli         Luxottica  sunglasses\n",
       "4  alain mikli  alain mikli anti-reflective         Luxottica  sunglasses"
      ]
     },
     "execution_count": 6,
     "metadata": {},
     "output_type": "execute_result"
    }
   ],
   "source": [
    "# Create column names for DataFrame\n",
    "keywords_df = keywords_df.rename(columns={0: 'Brands', 1: 'Layered_Keyword_Mapping'})\n",
    "# Add a manufacturer name column\n",
    "keywords_df['Manufacturer_Name']='Luxottica' \n",
    "keywords_df['Product'] = 'sunglasses'\n",
    "keywords_df.head()"
   ]
  },
  {
   "cell_type": "markdown",
   "metadata": {},
   "source": [
    "### Create Python function to map Product taxonomy Data Frame to free form text entered into PMS"
   ]
  },
  {
   "cell_type": "code",
   "execution_count": 7,
   "metadata": {},
   "outputs": [],
   "source": [
    "# create keyword mapping of Manufacturer, Brand and Product in data frame to free form text from PMS\n",
    "s = ['vogue','Luxottica','sunglasses','polarized vogue']\n",
    "brands_mask = keywords_df['Brands'].apply(lambda x:x in s)\n",
    "manufacturer_mask = keywords_df['Manufacturer_Name'].apply(lambda x: x in s)\n",
    "add_ons_mask = keywords_df['Layered_Keyword_Mapping'].apply(lambda x: x in s)"
   ]
  },
  {
   "cell_type": "code",
   "execution_count": 8,
   "metadata": {},
   "outputs": [
    {
     "data": {
      "text/plain": [
       "384    True\n",
       "385    True\n",
       "386    True\n",
       "387    True\n",
       "388    True\n",
       "389    True\n",
       "390    True\n",
       "391    True\n",
       "392    True\n",
       "393    True\n",
       "394    True\n",
       "395    True\n",
       "Name: Brands, dtype: bool"
      ]
     },
     "execution_count": 8,
     "metadata": {},
     "output_type": "execute_result"
    }
   ],
   "source": [
    "# keyword map string(free form text) to  brands_mask(Product Taxonomy Master List)\n",
    "brands_mask[brands_mask == True]"
   ]
  },
  {
   "cell_type": "code",
   "execution_count": 9,
   "metadata": {},
   "outputs": [
    {
     "data": {
      "text/plain": [
       "384    True\n",
       "385    True\n",
       "386    True\n",
       "387    True\n",
       "388    True\n",
       "389    True\n",
       "390    True\n",
       "391    True\n",
       "392    True\n",
       "393    True\n",
       "394    True\n",
       "395    True\n",
       "Name: Manufacturer_Name, dtype: bool"
      ]
     },
     "execution_count": 9,
     "metadata": {},
     "output_type": "execute_result"
    }
   ],
   "source": [
    "# keyword map string(free form text) to  manufacturer_mask(Product Taxonomy Master List)\n",
    "manufacturer_mask[brands_mask == True]"
   ]
  },
  {
   "cell_type": "markdown",
   "metadata": {},
   "source": [
    "### Determine if there is an exact match to free form text entered into PMS and Dataframe product taxonomy and if so, what are the details of that match?"
   ]
  },
  {
   "cell_type": "code",
   "execution_count": 10,
   "metadata": {},
   "outputs": [
    {
     "data": {
      "text/plain": [
       "391    True\n",
       "Name: Layered_Keyword_Mapping, dtype: bool"
      ]
     },
     "execution_count": 10,
     "metadata": {},
     "output_type": "execute_result"
    }
   ],
   "source": [
    "# map free form text to master list \n",
    "add_ons_mask[add_ons_mask == True]"
   ]
  },
  {
   "cell_type": "code",
   "execution_count": 11,
   "metadata": {},
   "outputs": [
    {
     "data": {
      "text/plain": [
       "Brands                               vogue\n",
       "Layered_Keyword_Mapping    polarized vogue\n",
       "Manufacturer_Name                Luxottica\n",
       "Product                         sunglasses\n",
       "Name: 391, dtype: object"
      ]
     },
     "execution_count": 11,
     "metadata": {},
     "output_type": "execute_result"
    }
   ],
   "source": [
    "# take a look at row in master list that corresponds to free form text \n",
    "keywords_df.loc[391]"
   ]
  },
  {
   "cell_type": "markdown",
   "metadata": {},
   "source": [
    "### Now that we have successfully mapped free form data to the product taxonomy data, utilize NLTK on the marketing text data to look for trends that can be used for marketing purposes"
   ]
  },
  {
   "cell_type": "code",
   "execution_count": 12,
   "metadata": {},
   "outputs": [],
   "source": [
    "# import text pre-processing packages\n",
    "import nltk\n",
    "import nltk.corpus\n",
    "import re\n",
    "import string\n",
    "from nltk.corpus import stopwords\n",
    "import nltk as nlp\n",
    "\n",
    "# use string of text from marketing text data\n",
    "text = 'Ray-Ban, one of the world’s leading lifestyle eyewear brands, and Oakley, a leader in the sport and performance category, serve as a strong base for our proprietary brand portfolio, complemented by Persol, Oliver Peoples and Alain Mikli at the high-end of the market, Costa del Mar and Arnette in the sport market, and Vogue Eyewear, Bolon, Molsion and Ossé in the affordable lifestyle market. The portfolio is rounded out by non-prescription reading glasses, including the brand Foster Grant'\n",
    "tex = 'Ray-Ban, one of the world’s leading lifestyle eyewear brands, and Oakley, a leader in the sport and performance category, serve as a strong base for our proprietary brand portfolio, complemented by Persol, Oliver Peoples and Alain Mikli at the high-end of the market, Costa del Mar and Arnette in the sport market, and Vogue Eyewear, Bolon, Molsion and Ossé in the affordable lifestyle market. The portfolio is rounded out by non-prescription reading glasses, including the brand Foster Grant'"
   ]
  },
  {
   "cell_type": "code",
   "execution_count": 13,
   "metadata": {},
   "outputs": [],
   "source": [
    "# create function that will lowercase text, remove punctuation, remove whitespace and remove words containing numbers\n",
    "def clean_text(text):\n",
    "    text = text.lower()\n",
    "    text = re.sub('[%s]' % re.escape(string.punctuation), '', text)\n",
    "    text = re.sub('\\w*\\d\\w*', '', text)\n",
    "    text = text.strip()\n",
    "    return text\n",
    "\n",
    "clean = lambda x: clean_text(x)"
   ]
  },
  {
   "cell_type": "code",
   "execution_count": 14,
   "metadata": {},
   "outputs": [
    {
     "name": "stdout",
     "output_type": "stream",
     "text": [
      "List of Words =['Ray-Ban,', 'one', 'of', 'the', 'world’s', 'leading', 'lifestyle', 'eyewear', 'brands,', 'and', 'Oakley,', 'a', 'leader', 'in', 'the', 'sport', 'and', 'performance', 'category,', 'serve', 'as', 'a', 'strong', 'base', 'for', 'our', 'proprietary', 'brand', 'portfolio,', 'complemented', 'by', 'Persol,', 'Oliver', 'Peoples', 'and', 'Alain', 'Mikli', 'at', 'the', 'high-end', 'of', 'the', 'market,', 'Costa', 'del', 'Mar', 'and', 'Arnette', 'in', 'the', 'sport', 'market,', 'and', 'Vogue', 'Eyewear,', 'Bolon,', 'Molsion', 'and', 'Ossé', 'in', 'the', 'affordable', 'lifestyle', 'market.', 'The', 'portfolio', 'is', 'rounded', 'out', 'by', 'non-prescription', 'reading', 'glasses,', 'including', 'the', 'brand', 'Foster', 'Grant']\n"
     ]
    },
    {
     "data": {
      "text/html": [
       "<div>\n",
       "<style scoped>\n",
       "    .dataframe tbody tr th:only-of-type {\n",
       "        vertical-align: middle;\n",
       "    }\n",
       "\n",
       "    .dataframe tbody tr th {\n",
       "        vertical-align: top;\n",
       "    }\n",
       "\n",
       "    .dataframe thead th {\n",
       "        text-align: right;\n",
       "    }\n",
       "</style>\n",
       "<table border=\"1\" class=\"dataframe\">\n",
       "  <thead>\n",
       "    <tr style=\"text-align: right;\">\n",
       "      <th></th>\n",
       "      <th>Names</th>\n",
       "    </tr>\n",
       "  </thead>\n",
       "  <tbody>\n",
       "    <tr>\n",
       "      <th>0</th>\n",
       "      <td>Ray-Ban,</td>\n",
       "    </tr>\n",
       "    <tr>\n",
       "      <th>1</th>\n",
       "      <td>one</td>\n",
       "    </tr>\n",
       "    <tr>\n",
       "      <th>2</th>\n",
       "      <td>of</td>\n",
       "    </tr>\n",
       "    <tr>\n",
       "      <th>3</th>\n",
       "      <td>the</td>\n",
       "    </tr>\n",
       "    <tr>\n",
       "      <th>4</th>\n",
       "      <td>world’s</td>\n",
       "    </tr>\n",
       "  </tbody>\n",
       "</table>\n",
       "</div>"
      ],
      "text/plain": [
       "      Names\n",
       "0  Ray-Ban,\n",
       "1       one\n",
       "2        of\n",
       "3       the\n",
       "4   world’s"
      ]
     },
     "execution_count": 14,
     "metadata": {},
     "output_type": "execute_result"
    }
   ],
   "source": [
    "# convert string into list and then list into DataFrame \n",
    "List_of_Words = tex.split()\n",
    "print(f'List of Words ={tex.split()}')\n",
    "df = pd.DataFrame(List_of_Words,columns =['Names']) \n",
    "df.head()"
   ]
  },
  {
   "cell_type": "code",
   "execution_count": 15,
   "metadata": {},
   "outputs": [
    {
     "data": {
      "text/html": [
       "<div>\n",
       "<style scoped>\n",
       "    .dataframe tbody tr th:only-of-type {\n",
       "        vertical-align: middle;\n",
       "    }\n",
       "\n",
       "    .dataframe tbody tr th {\n",
       "        vertical-align: top;\n",
       "    }\n",
       "\n",
       "    .dataframe thead th {\n",
       "        text-align: right;\n",
       "    }\n",
       "</style>\n",
       "<table border=\"1\" class=\"dataframe\">\n",
       "  <thead>\n",
       "    <tr style=\"text-align: right;\">\n",
       "      <th></th>\n",
       "      <th>Names</th>\n",
       "    </tr>\n",
       "  </thead>\n",
       "  <tbody>\n",
       "    <tr>\n",
       "      <th>0</th>\n",
       "      <td>rayban</td>\n",
       "    </tr>\n",
       "    <tr>\n",
       "      <th>1</th>\n",
       "      <td>one</td>\n",
       "    </tr>\n",
       "    <tr>\n",
       "      <th>2</th>\n",
       "      <td>of</td>\n",
       "    </tr>\n",
       "    <tr>\n",
       "      <th>3</th>\n",
       "      <td>the</td>\n",
       "    </tr>\n",
       "    <tr>\n",
       "      <th>4</th>\n",
       "      <td>world’s</td>\n",
       "    </tr>\n",
       "  </tbody>\n",
       "</table>\n",
       "</div>"
      ],
      "text/plain": [
       "     Names\n",
       "0   rayban\n",
       "1      one\n",
       "2       of\n",
       "3      the\n",
       "4  world’s"
      ]
     },
     "execution_count": 15,
     "metadata": {},
     "output_type": "execute_result"
    }
   ],
   "source": [
    "# apply function and view DataFrame\n",
    "from nltk.tokenize import word_tokenize\n",
    "updated_text = pd.DataFrame(df.Names.apply(clean))\n",
    "updated_text.head()"
   ]
  },
  {
   "cell_type": "code",
   "execution_count": 16,
   "metadata": {},
   "outputs": [
    {
     "data": {
      "text/html": [
       "<div>\n",
       "<style scoped>\n",
       "    .dataframe tbody tr th:only-of-type {\n",
       "        vertical-align: middle;\n",
       "    }\n",
       "\n",
       "    .dataframe tbody tr th {\n",
       "        vertical-align: top;\n",
       "    }\n",
       "\n",
       "    .dataframe thead th {\n",
       "        text-align: right;\n",
       "    }\n",
       "</style>\n",
       "<table border=\"1\" class=\"dataframe\">\n",
       "  <thead>\n",
       "    <tr style=\"text-align: right;\">\n",
       "      <th></th>\n",
       "      <th>Names</th>\n",
       "    </tr>\n",
       "  </thead>\n",
       "  <tbody>\n",
       "    <tr>\n",
       "      <th>0</th>\n",
       "      <td>rayban</td>\n",
       "    </tr>\n",
       "    <tr>\n",
       "      <th>1</th>\n",
       "      <td>one</td>\n",
       "    </tr>\n",
       "    <tr>\n",
       "      <th>2</th>\n",
       "      <td></td>\n",
       "    </tr>\n",
       "    <tr>\n",
       "      <th>3</th>\n",
       "      <td></td>\n",
       "    </tr>\n",
       "    <tr>\n",
       "      <th>4</th>\n",
       "      <td>world ’</td>\n",
       "    </tr>\n",
       "  </tbody>\n",
       "</table>\n",
       "</div>"
      ],
      "text/plain": [
       "     Names\n",
       "0   rayban\n",
       "1      one\n",
       "2         \n",
       "3         \n",
       "4  world ’"
      ]
     },
     "execution_count": 16,
     "metadata": {},
     "output_type": "execute_result"
    }
   ],
   "source": [
    "# remove stop words and lemmatize to further clean\n",
    "from nltk.tokenize import word_tokenize\n",
    "text1 = updated_text['Names'].tolist()\n",
    "text2 = str(text1)\n",
    "stop_words = set(stopwords.words('english'))\n",
    "from nltk.stem import WordNetLemmatizer\n",
    "lemmatizer = WordNetLemmatizer()\n",
    "def cleaner_text(text2):\n",
    "    text2 = word_tokenize(text2)\n",
    "    text2 = [i for i in text2 if not i in stop_words]\n",
    "    text2 = \" \".join([lemmatizer.lemmatize(t) for t in text2])\n",
    "    return text2\n",
    "\n",
    "clean2 = lambda x: cleaner_text(x)\n",
    "# take a look at updated DataFrame\n",
    "updated = pd.DataFrame(updated_text.Names.apply(clean2))\n",
    "updated.head()"
   ]
  },
  {
   "cell_type": "code",
   "execution_count": 17,
   "metadata": {},
   "outputs": [
    {
     "data": {
      "text/html": [
       "<div>\n",
       "<style scoped>\n",
       "    .dataframe tbody tr th:only-of-type {\n",
       "        vertical-align: middle;\n",
       "    }\n",
       "\n",
       "    .dataframe tbody tr th {\n",
       "        vertical-align: top;\n",
       "    }\n",
       "\n",
       "    .dataframe thead th {\n",
       "        text-align: right;\n",
       "    }\n",
       "</style>\n",
       "<table border=\"1\" class=\"dataframe\">\n",
       "  <thead>\n",
       "    <tr style=\"text-align: right;\">\n",
       "      <th></th>\n",
       "      <th>Names</th>\n",
       "    </tr>\n",
       "  </thead>\n",
       "  <tbody>\n",
       "    <tr>\n",
       "      <th>0</th>\n",
       "      <td>rayban</td>\n",
       "    </tr>\n",
       "    <tr>\n",
       "      <th>1</th>\n",
       "      <td>one</td>\n",
       "    </tr>\n",
       "    <tr>\n",
       "      <th>2</th>\n",
       "      <td>world ’</td>\n",
       "    </tr>\n",
       "    <tr>\n",
       "      <th>3</th>\n",
       "      <td>leading</td>\n",
       "    </tr>\n",
       "    <tr>\n",
       "      <th>4</th>\n",
       "      <td>lifestyle</td>\n",
       "    </tr>\n",
       "  </tbody>\n",
       "</table>\n",
       "</div>"
      ],
      "text/plain": [
       "       Names\n",
       "0     rayban\n",
       "1        one\n",
       "2    world ’\n",
       "3    leading\n",
       "4  lifestyle"
      ]
     },
     "execution_count": 17,
     "metadata": {},
     "output_type": "execute_result"
    }
   ],
   "source": [
    "# take a look at updated dataframe after reseting index\n",
    "i = updated[updated.Names == ''].index\n",
    "updated.drop(i, inplace = True)\n",
    "updated.reset_index(drop=True, inplace = True)\n",
    "updated.head()"
   ]
  },
  {
   "cell_type": "code",
   "execution_count": 18,
   "metadata": {},
   "outputs": [
    {
     "data": {
      "text/html": [
       "<div>\n",
       "<style scoped>\n",
       "    .dataframe tbody tr th:only-of-type {\n",
       "        vertical-align: middle;\n",
       "    }\n",
       "\n",
       "    .dataframe tbody tr th {\n",
       "        vertical-align: top;\n",
       "    }\n",
       "\n",
       "    .dataframe thead th {\n",
       "        text-align: right;\n",
       "    }\n",
       "</style>\n",
       "<table border=\"1\" class=\"dataframe\">\n",
       "  <thead>\n",
       "    <tr style=\"text-align: right;\">\n",
       "      <th></th>\n",
       "      <th>Names</th>\n",
       "      <th>Brands</th>\n",
       "      <th>Layered_Keyword_Mapping</th>\n",
       "      <th>Manufacturer_Name</th>\n",
       "      <th>Product</th>\n",
       "    </tr>\n",
       "  </thead>\n",
       "  <tbody>\n",
       "    <tr>\n",
       "      <th>0</th>\n",
       "      <td>rayban</td>\n",
       "      <td>rayban</td>\n",
       "      <td>rayban polycarbonate</td>\n",
       "      <td>Luxottica</td>\n",
       "      <td>sunglasses</td>\n",
       "    </tr>\n",
       "    <tr>\n",
       "      <th>1</th>\n",
       "      <td>rayban</td>\n",
       "      <td>rayban</td>\n",
       "      <td>polycarbonate rayban</td>\n",
       "      <td>Luxottica</td>\n",
       "      <td>sunglasses</td>\n",
       "    </tr>\n",
       "    <tr>\n",
       "      <th>2</th>\n",
       "      <td>rayban</td>\n",
       "      <td>rayban</td>\n",
       "      <td>rayban high-index</td>\n",
       "      <td>Luxottica</td>\n",
       "      <td>sunglasses</td>\n",
       "    </tr>\n",
       "    <tr>\n",
       "      <th>3</th>\n",
       "      <td>rayban</td>\n",
       "      <td>rayban</td>\n",
       "      <td>high-index rayban</td>\n",
       "      <td>Luxottica</td>\n",
       "      <td>sunglasses</td>\n",
       "    </tr>\n",
       "    <tr>\n",
       "      <th>4</th>\n",
       "      <td>rayban</td>\n",
       "      <td>rayban</td>\n",
       "      <td>rayban anti-reflective</td>\n",
       "      <td>Luxottica</td>\n",
       "      <td>sunglasses</td>\n",
       "    </tr>\n",
       "  </tbody>\n",
       "</table>\n",
       "</div>"
      ],
      "text/plain": [
       "    Names  Brands Layered_Keyword_Mapping Manufacturer_Name     Product\n",
       "0  rayban  rayban    rayban polycarbonate         Luxottica  sunglasses\n",
       "1  rayban  rayban    polycarbonate rayban         Luxottica  sunglasses\n",
       "2  rayban  rayban       rayban high-index         Luxottica  sunglasses\n",
       "3  rayban  rayban       high-index rayban         Luxottica  sunglasses\n",
       "4  rayban  rayban  rayban anti-reflective         Luxottica  sunglasses"
      ]
     },
     "execution_count": 18,
     "metadata": {},
     "output_type": "execute_result"
    }
   ],
   "source": [
    "# merge product taxonomy dataframe and website text dataframe in order to analyze trends \n",
    "updated_new = updated.merge(keywords_df,how='left', left_on='Names', right_on='Brands')\n",
    "updated_new.head()"
   ]
  },
  {
   "cell_type": "code",
   "execution_count": 19,
   "metadata": {},
   "outputs": [
    {
     "name": "stdout",
     "output_type": "stream",
     "text": [
      "Brands\n",
      "alain      12\n",
      "arnette    12\n",
      "bolon      12\n",
      "costa      12\n",
      "foster     12\n",
      "grant      12\n",
      "mikli      12\n",
      "molsion    12\n",
      "oakley     12\n",
      "oliver     12\n",
      "persol     12\n",
      "rayban     12\n",
      "vogue      12\n",
      "Name: Names, dtype: int64\n"
     ]
    }
   ],
   "source": [
    "# View a summary of matches to get counts of brands seen most on marketing text data\n",
    "summary = updated_new.groupby(['Brands'])['Names'].count()\n",
    "print(summary)"
   ]
  },
  {
   "cell_type": "markdown",
   "metadata": {},
   "source": [
    "### This shows that Rayban, Alain Mikli, Arnette, Bolon, Costa, Foster Grant, Molsion, Oakley, Oliver Peoples, Persol and Vogue are seen most on marketing text data   "
   ]
  }
 ],
 "metadata": {
  "kernelspec": {
   "display_name": "Python 3",
   "language": "python",
   "name": "python3"
  },
  "language_info": {
   "codemirror_mode": {
    "name": "ipython",
    "version": 3
   },
   "file_extension": ".py",
   "mimetype": "text/x-python",
   "name": "python",
   "nbconvert_exporter": "python",
   "pygments_lexer": "ipython3",
   "version": "3.7.3"
  }
 },
 "nbformat": 4,
 "nbformat_minor": 2
}
