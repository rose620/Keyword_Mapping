{
 "cells": [
  {
   "cell_type": "markdown",
   "metadata": {},
   "source": [
    "### Match free form text to master list as well as (manufacturer, brand, product) hiererchy "
   ]
  },
  {
   "cell_type": "code",
   "execution_count": 1,
   "metadata": {},
   "outputs": [
    {
     "name": "stdout",
     "output_type": "stream",
     "text": [
      "Enter free form text: vogue\n",
      "vogue\n"
     ]
    }
   ],
   "source": [
    "# build preliminary function to enter free form text to match(try entering vogue)\n",
    "free_form = input(\"Enter free form text: \") \n",
    "brands = ['alain mikli', 'armani exchange', 'arnette', 'bolon', 'brooks brothers','burberry', 'bvlgari', 'chanel', 'coach', 'costa','dolce gabbana', 'empirio armani', 'ferrari', 'foster grant', 'georgio armani','luxottica', 'michael kors', 'miu miu', 'molsion', 'oakley','oliver peoples', 'persol', 'polo ralph lauren', 'prada', 'ralph lauren','ray-ban', 'stereoflex', 'starck', 'tiffany', 'tory borch','valentino','versace','vogue']\n",
    "for brand in brands:\n",
    "    if free_form in brand:\n",
    "        print(free_form)       "
   ]
  },
  {
   "cell_type": "code",
   "execution_count": 2,
   "metadata": {},
   "outputs": [
    {
     "name": "stdout",
     "output_type": "stream",
     "text": [
      "Enter free form text: vogue\n",
      "luxottica\n"
     ]
    }
   ],
   "source": [
    "# Create nested dictionary to match on hierarchy: manufacturers = {'manufacturer':{'brand':['product']}}\n",
    "word = input(\"Enter free form text: \")\n",
    "manufacturers = {'luxottica': {'vogue':['VO5316']}}\n",
    "for manufacturer in manufacturers:\n",
    "    if word in manufacturer:\n",
    "        manufacturer = word\n",
    "print(manufacturer)"
   ]
  },
  {
   "cell_type": "markdown",
   "metadata": {},
   "source": [
    "### Use fuzzy string matching to handle data entry inaccuracies and improve data quality"
   ]
  },
  {
   "cell_type": "code",
   "execution_count": 3,
   "metadata": {},
   "outputs": [
    {
     "data": {
      "text/plain": [
       "[('vogue', 90), ('valentino', 33), ('versace', 30)]"
      ]
     },
     "execution_count": 3,
     "metadata": {},
     "output_type": "execute_result"
    }
   ],
   "source": [
    "# use fuzzy wuzzy package to handle data inaccuracies within PMS\n",
    "from fuzzywuzzy import fuzz \n",
    "from fuzzywuzzy import process \n",
    "choices = ['vogue', 'valentino', 'versace']\n",
    "query = 'vog'\n",
    "process.extract(query, choices) "
   ]
  },
  {
   "cell_type": "code",
   "execution_count": 4,
   "metadata": {},
   "outputs": [
    {
     "data": {
      "text/plain": [
       "('vogue', 90)"
      ]
     },
     "execution_count": 4,
     "metadata": {},
     "output_type": "execute_result"
    }
   ],
   "source": [
    "# choose the key word match that matchest closest to data innaccuracy\n",
    "process.extractOne(query, choices)"
   ]
  },
  {
   "cell_type": "code",
   "execution_count": 5,
   "metadata": {},
   "outputs": [],
   "source": [
    "# create function to get matches using fuzzywuzzy package\n",
    "# def get_matches(query,choices, limit = 3):\n",
    "    # results = process.extract(query, choices, limit = limit)\n",
    "    # return results\n",
    "# get_matches[query, choices]   "
   ]
  },
  {
   "cell_type": "markdown",
   "metadata": {},
   "source": [
    "### Map Free Form Text add ons to Brand list from Luxottica Manufacturer utilizing data frame"
   ]
  },
  {
   "cell_type": "code",
   "execution_count": 6,
   "metadata": {},
   "outputs": [
    {
     "name": "stdout",
     "output_type": "stream",
     "text": [
      "[['alain mikli', 'alain mikli polycarbonate'],\n",
      " ['alain mikli', 'polycarbonate alain mikli'],\n",
      " ['alain mikli', 'alain mikli high-index'],\n",
      " ['alain mikli', 'high-index alain mikli'],\n",
      " ['alain mikli', 'alain mikli anti-reflective']]\n"
     ]
    }
   ],
   "source": [
    "# create a list containing some common add-ons\n",
    "add_ons = ['polycarbonate','high-index', 'anti-reflective','polarized', 'transitions', 'blue-light protection']\n",
    "\n",
    "# now map to 33 brands under Luxottica manufacturer\n",
    "brands = ['alain mikli', 'armani exchange', 'arnette', 'bolon', 'brooks brothers','burberry', 'bvlgari', 'chanel', 'coach', 'costa','dolce gabbana', 'empirio armani', 'ferrari', 'foster grant', 'georgio armani','luxottica', 'michael kors', 'miu miu', 'molsion', 'oakley','oliver peoples', 'persol', 'polo ralph lauren', 'prada', 'ralph lauren','rayban', 'stereoflex', 'starck', 'tiffany', 'tory borch','valentino','versace','vogue','alain','mikli','armani','exchange','brooks','brothers','dolce','gabbana','empirio','foster','grant','georgio','michael','kors','miu','oliver','polo','ralph','lauren','tory','burch']\n",
    "\n",
    "# Create an empty list\n",
    "keywords_list = []\n",
    "\n",
    "# Loop through brands\n",
    "for brand in brands:\n",
    "    # Loop through addons\n",
    "    for add_on in add_ons:\n",
    "        # Append combinations\n",
    "        keywords_list.append([brand , brand + ' ' + add_on])\n",
    "        keywords_list.append([brand , add_on + ' ' + brand])\n",
    "        \n",
    "# Inspect keyword list\n",
    "from pprint import pprint\n",
    "pprint(keywords_list[:5])"
   ]
  },
  {
   "cell_type": "code",
   "execution_count": 7,
   "metadata": {},
   "outputs": [
    {
     "data": {
      "text/html": [
       "<div>\n",
       "<style scoped>\n",
       "    .dataframe tbody tr th:only-of-type {\n",
       "        vertical-align: middle;\n",
       "    }\n",
       "\n",
       "    .dataframe tbody tr th {\n",
       "        vertical-align: top;\n",
       "    }\n",
       "\n",
       "    .dataframe thead th {\n",
       "        text-align: right;\n",
       "    }\n",
       "</style>\n",
       "<table border=\"1\" class=\"dataframe\">\n",
       "  <thead>\n",
       "    <tr style=\"text-align: right;\">\n",
       "      <th></th>\n",
       "      <th>0</th>\n",
       "      <th>1</th>\n",
       "    </tr>\n",
       "  </thead>\n",
       "  <tbody>\n",
       "    <tr>\n",
       "      <th>0</th>\n",
       "      <td>alain mikli</td>\n",
       "      <td>alain mikli polycarbonate</td>\n",
       "    </tr>\n",
       "    <tr>\n",
       "      <th>1</th>\n",
       "      <td>alain mikli</td>\n",
       "      <td>polycarbonate alain mikli</td>\n",
       "    </tr>\n",
       "    <tr>\n",
       "      <th>2</th>\n",
       "      <td>alain mikli</td>\n",
       "      <td>alain mikli high-index</td>\n",
       "    </tr>\n",
       "    <tr>\n",
       "      <th>3</th>\n",
       "      <td>alain mikli</td>\n",
       "      <td>high-index alain mikli</td>\n",
       "    </tr>\n",
       "    <tr>\n",
       "      <th>4</th>\n",
       "      <td>alain mikli</td>\n",
       "      <td>alain mikli anti-reflective</td>\n",
       "    </tr>\n",
       "  </tbody>\n",
       "</table>\n",
       "</div>"
      ],
      "text/plain": [
       "             0                            1\n",
       "0  alain mikli    alain mikli polycarbonate\n",
       "1  alain mikli    polycarbonate alain mikli\n",
       "2  alain mikli       alain mikli high-index\n",
       "3  alain mikli       high-index alain mikli\n",
       "4  alain mikli  alain mikli anti-reflective"
      ]
     },
     "execution_count": 7,
     "metadata": {},
     "output_type": "execute_result"
    }
   ],
   "source": [
    "# convert list of lists into a dataframe\n",
    "import pandas as pd\n",
    "\n",
    "# Create a DataFrame from list\n",
    "keywords_df = pd.DataFrame.from_records(keywords_list)\n",
    "\n",
    "# Print the keywords DataFrame to explore it\n",
    "keywords_df.head()"
   ]
  },
  {
   "cell_type": "code",
   "execution_count": 8,
   "metadata": {},
   "outputs": [
    {
     "data": {
      "text/html": [
       "<div>\n",
       "<style scoped>\n",
       "    .dataframe tbody tr th:only-of-type {\n",
       "        vertical-align: middle;\n",
       "    }\n",
       "\n",
       "    .dataframe tbody tr th {\n",
       "        vertical-align: top;\n",
       "    }\n",
       "\n",
       "    .dataframe thead th {\n",
       "        text-align: right;\n",
       "    }\n",
       "</style>\n",
       "<table border=\"1\" class=\"dataframe\">\n",
       "  <thead>\n",
       "    <tr style=\"text-align: right;\">\n",
       "      <th></th>\n",
       "      <th>Brands</th>\n",
       "      <th>Keyword_Mapping</th>\n",
       "      <th>Manufacturer_Name</th>\n",
       "    </tr>\n",
       "  </thead>\n",
       "  <tbody>\n",
       "    <tr>\n",
       "      <th>0</th>\n",
       "      <td>alain mikli</td>\n",
       "      <td>alain mikli polycarbonate</td>\n",
       "      <td>Luxottica</td>\n",
       "    </tr>\n",
       "    <tr>\n",
       "      <th>1</th>\n",
       "      <td>alain mikli</td>\n",
       "      <td>polycarbonate alain mikli</td>\n",
       "      <td>Luxottica</td>\n",
       "    </tr>\n",
       "    <tr>\n",
       "      <th>2</th>\n",
       "      <td>alain mikli</td>\n",
       "      <td>alain mikli high-index</td>\n",
       "      <td>Luxottica</td>\n",
       "    </tr>\n",
       "    <tr>\n",
       "      <th>3</th>\n",
       "      <td>alain mikli</td>\n",
       "      <td>high-index alain mikli</td>\n",
       "      <td>Luxottica</td>\n",
       "    </tr>\n",
       "    <tr>\n",
       "      <th>4</th>\n",
       "      <td>alain mikli</td>\n",
       "      <td>alain mikli anti-reflective</td>\n",
       "      <td>Luxottica</td>\n",
       "    </tr>\n",
       "  </tbody>\n",
       "</table>\n",
       "</div>"
      ],
      "text/plain": [
       "        Brands              Keyword_Mapping Manufacturer_Name\n",
       "0  alain mikli    alain mikli polycarbonate         Luxottica\n",
       "1  alain mikli    polycarbonate alain mikli         Luxottica\n",
       "2  alain mikli       alain mikli high-index         Luxottica\n",
       "3  alain mikli       high-index alain mikli         Luxottica\n",
       "4  alain mikli  alain mikli anti-reflective         Luxottica"
      ]
     },
     "execution_count": 8,
     "metadata": {},
     "output_type": "execute_result"
    }
   ],
   "source": [
    "# Create column names for DataFrame\n",
    "keywords_df = keywords_df.rename(columns={0: 'Brands', 1: 'Keyword_Mapping'})\n",
    "# Add a manufacturer name column\n",
    "keywords_df['Manufacturer_Name']='Luxottica' \n",
    "keywords_df.head()"
   ]
  },
  {
   "cell_type": "markdown",
   "metadata": {},
   "source": [
    "### Use NLTK to clean data from Luxottica website and loof for trends that can be used for marketing purposes"
   ]
  },
  {
   "cell_type": "code",
   "execution_count": 9,
   "metadata": {},
   "outputs": [],
   "source": [
    "# use string of text from Luxottica website\n",
    "import pandas as pd\n",
    "#import text pre-processing packages\n",
    "import nltk\n",
    "import nltk.corpus\n",
    "import re\n",
    "import string\n",
    "from nltk.corpus import stopwords\n",
    "import nltk as nlp\n",
    "\n",
    "text = 'Ray-Ban, one of the world’s leading lifestyle eyewear brands, and Oakley, a leader in the sport and performance category, serve as a strong base for our proprietary brand portfolio, complemented by Persol, Oliver Peoples and Alain Mikli at the high-end of the market, Costa del Mar and Arnette in the sport market, and Vogue Eyewear, Bolon, Molsion and Ossé in the affordable lifestyle market. The portfolio is rounded out by non-prescription reading glasses, including the brand Foster Grant'\n",
    "tex = 'Ray-Ban, one of the world’s leading lifestyle eyewear brands, and Oakley, a leader in the sport and performance category, serve as a strong base for our proprietary brand portfolio, complemented by Persol, Oliver Peoples and Alain Mikli at the high-end of the market, Costa del Mar and Arnette in the sport market, and Vogue Eyewear, Bolon, Molsion and Ossé in the affordable lifestyle market. The portfolio is rounded out by non-prescription reading glasses, including the brand Foster Grant'"
   ]
  },
  {
   "cell_type": "code",
   "execution_count": 10,
   "metadata": {},
   "outputs": [],
   "source": [
    "# Make function to lowercase text, remove punctuation, remove whitespace and remove words containing numbers\n",
    "def clean_text(text):\n",
    "    text = text.lower()\n",
    "    text = re.sub('[%s]' % re.escape(string.punctuation), '', text)\n",
    "    text = re.sub('\\w*\\d\\w*', '', text)\n",
    "    text = text.strip()\n",
    "    return text\n",
    "\n",
    "clean = lambda x: clean_text(x)"
   ]
  },
  {
   "cell_type": "code",
   "execution_count": 11,
   "metadata": {},
   "outputs": [
    {
     "name": "stdout",
     "output_type": "stream",
     "text": [
      "List of Words =['Ray-Ban,', 'one', 'of', 'the', 'world’s', 'leading', 'lifestyle', 'eyewear', 'brands,', 'and', 'Oakley,', 'a', 'leader', 'in', 'the', 'sport', 'and', 'performance', 'category,', 'serve', 'as', 'a', 'strong', 'base', 'for', 'our', 'proprietary', 'brand', 'portfolio,', 'complemented', 'by', 'Persol,', 'Oliver', 'Peoples', 'and', 'Alain', 'Mikli', 'at', 'the', 'high-end', 'of', 'the', 'market,', 'Costa', 'del', 'Mar', 'and', 'Arnette', 'in', 'the', 'sport', 'market,', 'and', 'Vogue', 'Eyewear,', 'Bolon,', 'Molsion', 'and', 'Ossé', 'in', 'the', 'affordable', 'lifestyle', 'market.', 'The', 'portfolio', 'is', 'rounded', 'out', 'by', 'non-prescription', 'reading', 'glasses,', 'including', 'the', 'brand', 'Foster', 'Grant']\n"
     ]
    },
    {
     "data": {
      "text/html": [
       "<div>\n",
       "<style scoped>\n",
       "    .dataframe tbody tr th:only-of-type {\n",
       "        vertical-align: middle;\n",
       "    }\n",
       "\n",
       "    .dataframe tbody tr th {\n",
       "        vertical-align: top;\n",
       "    }\n",
       "\n",
       "    .dataframe thead th {\n",
       "        text-align: right;\n",
       "    }\n",
       "</style>\n",
       "<table border=\"1\" class=\"dataframe\">\n",
       "  <thead>\n",
       "    <tr style=\"text-align: right;\">\n",
       "      <th></th>\n",
       "      <th>Names</th>\n",
       "    </tr>\n",
       "  </thead>\n",
       "  <tbody>\n",
       "    <tr>\n",
       "      <th>0</th>\n",
       "      <td>Ray-Ban,</td>\n",
       "    </tr>\n",
       "    <tr>\n",
       "      <th>1</th>\n",
       "      <td>one</td>\n",
       "    </tr>\n",
       "    <tr>\n",
       "      <th>2</th>\n",
       "      <td>of</td>\n",
       "    </tr>\n",
       "    <tr>\n",
       "      <th>3</th>\n",
       "      <td>the</td>\n",
       "    </tr>\n",
       "    <tr>\n",
       "      <th>4</th>\n",
       "      <td>world’s</td>\n",
       "    </tr>\n",
       "  </tbody>\n",
       "</table>\n",
       "</div>"
      ],
      "text/plain": [
       "      Names\n",
       "0  Ray-Ban,\n",
       "1       one\n",
       "2        of\n",
       "3       the\n",
       "4   world’s"
      ]
     },
     "execution_count": 11,
     "metadata": {},
     "output_type": "execute_result"
    }
   ],
   "source": [
    "# convert string into list and then list into dataframe \n",
    "List_of_Words = tex.split()\n",
    "print(f'List of Words ={tex.split()}')\n",
    "df = pd.DataFrame(List_of_Words,columns =['Names']) \n",
    "df.head()"
   ]
  },
  {
   "cell_type": "code",
   "execution_count": 12,
   "metadata": {},
   "outputs": [
    {
     "data": {
      "text/html": [
       "<div>\n",
       "<style scoped>\n",
       "    .dataframe tbody tr th:only-of-type {\n",
       "        vertical-align: middle;\n",
       "    }\n",
       "\n",
       "    .dataframe tbody tr th {\n",
       "        vertical-align: top;\n",
       "    }\n",
       "\n",
       "    .dataframe thead th {\n",
       "        text-align: right;\n",
       "    }\n",
       "</style>\n",
       "<table border=\"1\" class=\"dataframe\">\n",
       "  <thead>\n",
       "    <tr style=\"text-align: right;\">\n",
       "      <th></th>\n",
       "      <th>Names</th>\n",
       "    </tr>\n",
       "  </thead>\n",
       "  <tbody>\n",
       "    <tr>\n",
       "      <th>0</th>\n",
       "      <td>rayban</td>\n",
       "    </tr>\n",
       "    <tr>\n",
       "      <th>1</th>\n",
       "      <td>one</td>\n",
       "    </tr>\n",
       "    <tr>\n",
       "      <th>2</th>\n",
       "      <td>of</td>\n",
       "    </tr>\n",
       "    <tr>\n",
       "      <th>3</th>\n",
       "      <td>the</td>\n",
       "    </tr>\n",
       "    <tr>\n",
       "      <th>4</th>\n",
       "      <td>world’s</td>\n",
       "    </tr>\n",
       "  </tbody>\n",
       "</table>\n",
       "</div>"
      ],
      "text/plain": [
       "     Names\n",
       "0   rayban\n",
       "1      one\n",
       "2       of\n",
       "3      the\n",
       "4  world’s"
      ]
     },
     "execution_count": 12,
     "metadata": {},
     "output_type": "execute_result"
    }
   ],
   "source": [
    "# apply function and view\n",
    "from nltk.tokenize import word_tokenize\n",
    "updated_text = pd.DataFrame(df.Names.apply(clean))\n",
    "updated_text.head()"
   ]
  },
  {
   "cell_type": "code",
   "execution_count": 13,
   "metadata": {},
   "outputs": [
    {
     "data": {
      "text/html": [
       "<div>\n",
       "<style scoped>\n",
       "    .dataframe tbody tr th:only-of-type {\n",
       "        vertical-align: middle;\n",
       "    }\n",
       "\n",
       "    .dataframe tbody tr th {\n",
       "        vertical-align: top;\n",
       "    }\n",
       "\n",
       "    .dataframe thead th {\n",
       "        text-align: right;\n",
       "    }\n",
       "</style>\n",
       "<table border=\"1\" class=\"dataframe\">\n",
       "  <thead>\n",
       "    <tr style=\"text-align: right;\">\n",
       "      <th></th>\n",
       "      <th>Names</th>\n",
       "    </tr>\n",
       "  </thead>\n",
       "  <tbody>\n",
       "    <tr>\n",
       "      <th>0</th>\n",
       "      <td>rayban</td>\n",
       "    </tr>\n",
       "    <tr>\n",
       "      <th>1</th>\n",
       "      <td>one</td>\n",
       "    </tr>\n",
       "    <tr>\n",
       "      <th>2</th>\n",
       "      <td></td>\n",
       "    </tr>\n",
       "    <tr>\n",
       "      <th>3</th>\n",
       "      <td></td>\n",
       "    </tr>\n",
       "    <tr>\n",
       "      <th>4</th>\n",
       "      <td>world ’</td>\n",
       "    </tr>\n",
       "  </tbody>\n",
       "</table>\n",
       "</div>"
      ],
      "text/plain": [
       "     Names\n",
       "0   rayban\n",
       "1      one\n",
       "2         \n",
       "3         \n",
       "4  world ’"
      ]
     },
     "execution_count": 13,
     "metadata": {},
     "output_type": "execute_result"
    }
   ],
   "source": [
    "# still need to remove stop words and lemmatize to further clean\n",
    "from nltk.tokenize import word_tokenize\n",
    "text1 = updated_text['Names'].tolist()\n",
    "text2 = str(text1)\n",
    "stop_words = set(stopwords.words('english'))\n",
    "from nltk.stem import WordNetLemmatizer\n",
    "lemmatizer = WordNetLemmatizer()\n",
    "def cleaner_text(text2):\n",
    "    text2 = word_tokenize(text2)\n",
    "    text2 = [i for i in text2 if not i in stop_words]\n",
    "    text2 = \" \".join([lemmatizer.lemmatize(t) for t in text2])\n",
    "    return text2\n",
    "\n",
    "clean2 = lambda x: cleaner_text(x)\n",
    "# Let's take a look at the updated text2\n",
    "updated = pd.DataFrame(updated_text.Names.apply(clean2))\n",
    "updated.head()"
   ]
  },
  {
   "cell_type": "code",
   "execution_count": 14,
   "metadata": {},
   "outputs": [
    {
     "data": {
      "text/html": [
       "<div>\n",
       "<style scoped>\n",
       "    .dataframe tbody tr th:only-of-type {\n",
       "        vertical-align: middle;\n",
       "    }\n",
       "\n",
       "    .dataframe tbody tr th {\n",
       "        vertical-align: top;\n",
       "    }\n",
       "\n",
       "    .dataframe thead th {\n",
       "        text-align: right;\n",
       "    }\n",
       "</style>\n",
       "<table border=\"1\" class=\"dataframe\">\n",
       "  <thead>\n",
       "    <tr style=\"text-align: right;\">\n",
       "      <th></th>\n",
       "      <th>Names</th>\n",
       "    </tr>\n",
       "  </thead>\n",
       "  <tbody>\n",
       "    <tr>\n",
       "      <th>0</th>\n",
       "      <td>rayban</td>\n",
       "    </tr>\n",
       "    <tr>\n",
       "      <th>1</th>\n",
       "      <td>one</td>\n",
       "    </tr>\n",
       "    <tr>\n",
       "      <th>2</th>\n",
       "      <td>world ’</td>\n",
       "    </tr>\n",
       "    <tr>\n",
       "      <th>3</th>\n",
       "      <td>leading</td>\n",
       "    </tr>\n",
       "    <tr>\n",
       "      <th>4</th>\n",
       "      <td>lifestyle</td>\n",
       "    </tr>\n",
       "  </tbody>\n",
       "</table>\n",
       "</div>"
      ],
      "text/plain": [
       "       Names\n",
       "0     rayban\n",
       "1        one\n",
       "2    world ’\n",
       "3    leading\n",
       "4  lifestyle"
      ]
     },
     "execution_count": 14,
     "metadata": {},
     "output_type": "execute_result"
    }
   ],
   "source": [
    "# remove stop words from data frame and lemmatize\n",
    "i = updated[updated.Names == ''].index\n",
    "updated.drop(i, inplace = True)\n",
    "updated.reset_index(drop=True, inplace = True)\n",
    "updated.head()"
   ]
  },
  {
   "cell_type": "code",
   "execution_count": 15,
   "metadata": {},
   "outputs": [
    {
     "data": {
      "text/html": [
       "<div>\n",
       "<style scoped>\n",
       "    .dataframe tbody tr th:only-of-type {\n",
       "        vertical-align: middle;\n",
       "    }\n",
       "\n",
       "    .dataframe tbody tr th {\n",
       "        vertical-align: top;\n",
       "    }\n",
       "\n",
       "    .dataframe thead th {\n",
       "        text-align: right;\n",
       "    }\n",
       "</style>\n",
       "<table border=\"1\" class=\"dataframe\">\n",
       "  <thead>\n",
       "    <tr style=\"text-align: right;\">\n",
       "      <th></th>\n",
       "      <th>Names</th>\n",
       "      <th>Brands</th>\n",
       "      <th>Keyword_Mapping</th>\n",
       "      <th>Manufacturer_Name</th>\n",
       "    </tr>\n",
       "  </thead>\n",
       "  <tbody>\n",
       "    <tr>\n",
       "      <th>0</th>\n",
       "      <td>rayban</td>\n",
       "      <td>rayban</td>\n",
       "      <td>rayban polycarbonate</td>\n",
       "      <td>Luxottica</td>\n",
       "    </tr>\n",
       "    <tr>\n",
       "      <th>1</th>\n",
       "      <td>rayban</td>\n",
       "      <td>rayban</td>\n",
       "      <td>polycarbonate rayban</td>\n",
       "      <td>Luxottica</td>\n",
       "    </tr>\n",
       "    <tr>\n",
       "      <th>2</th>\n",
       "      <td>rayban</td>\n",
       "      <td>rayban</td>\n",
       "      <td>rayban high-index</td>\n",
       "      <td>Luxottica</td>\n",
       "    </tr>\n",
       "    <tr>\n",
       "      <th>3</th>\n",
       "      <td>rayban</td>\n",
       "      <td>rayban</td>\n",
       "      <td>high-index rayban</td>\n",
       "      <td>Luxottica</td>\n",
       "    </tr>\n",
       "    <tr>\n",
       "      <th>4</th>\n",
       "      <td>rayban</td>\n",
       "      <td>rayban</td>\n",
       "      <td>rayban anti-reflective</td>\n",
       "      <td>Luxottica</td>\n",
       "    </tr>\n",
       "  </tbody>\n",
       "</table>\n",
       "</div>"
      ],
      "text/plain": [
       "    Names  Brands         Keyword_Mapping Manufacturer_Name\n",
       "0  rayban  rayban    rayban polycarbonate         Luxottica\n",
       "1  rayban  rayban    polycarbonate rayban         Luxottica\n",
       "2  rayban  rayban       rayban high-index         Luxottica\n",
       "3  rayban  rayban       high-index rayban         Luxottica\n",
       "4  rayban  rayban  rayban anti-reflective         Luxottica"
      ]
     },
     "execution_count": 15,
     "metadata": {},
     "output_type": "execute_result"
    }
   ],
   "source": [
    "# merge both datasets in order to look for trends\n",
    "updated_new = updated.merge(keywords_df,how='left', left_on='Names', right_on='Brands')\n",
    "updated_new.head()"
   ]
  },
  {
   "cell_type": "code",
   "execution_count": 18,
   "metadata": {},
   "outputs": [
    {
     "name": "stdout",
     "output_type": "stream",
     "text": [
      "Brands\n",
      "alain      12\n",
      "arnette    12\n",
      "bolon      12\n",
      "costa      12\n",
      "foster     12\n",
      "grant      12\n",
      "mikli      12\n",
      "molsion    12\n",
      "oakley     12\n",
      "oliver     12\n",
      "persol     12\n",
      "rayban     12\n",
      "vogue      12\n",
      "Name: Names, dtype: int64\n"
     ]
    }
   ],
   "source": [
    "# View a summary of matches to get count of brands most seen on website marketing\n",
    "summary = updated_new.groupby(['Brands'])['Names'].count()\n",
    "print(summary)"
   ]
  },
  {
   "cell_type": "markdown",
   "metadata": {},
   "source": [
    "### This shows that Rayban, Alain Mikli, Arnette, Bolon, Costa, Foster Grant, Molsion, Oakley, Oliver Peoples, Persol and Vogue are seen most in website marketing.  "
   ]
  },
  {
   "cell_type": "code",
   "execution_count": null,
   "metadata": {},
   "outputs": [],
   "source": []
  }
 ],
 "metadata": {
  "kernelspec": {
   "display_name": "Python 3",
   "language": "python",
   "name": "python3"
  },
  "language_info": {
   "codemirror_mode": {
    "name": "ipython",
    "version": 3
   },
   "file_extension": ".py",
   "mimetype": "text/x-python",
   "name": "python",
   "nbconvert_exporter": "python",
   "pygments_lexer": "ipython3",
   "version": "3.7.3"
  }
 },
 "nbformat": 4,
 "nbformat_minor": 2
}
